{
 "cells": [
  {
   "cell_type": "code",
   "execution_count": 20,
   "id": "dcb86ca3-85fe-4e1b-8057-27dd63227ec9",
   "metadata": {
    "scrolled": true
   },
   "outputs": [
    {
     "name": "stdout",
     "output_type": "stream",
     "text": [
      "sex: [0. 1.]\n",
      "cp: [1. 2. 3. 4.]\n",
      "fbs: [0. 1.]\n",
      "restecg: [0. 1. 2.]\n",
      "exang: [0. 1.]\n",
      "slope: [1. 2. 3.]\n",
      "thal: [3. 6. 7.]\n",
      "Sample count for each label:\n",
      "0.0, 128\n",
      "1.0, 41\n",
      "2.0, 30\n",
      "3.0, 30\n",
      "4.0, 8\n"
     ]
    }
   ],
   "source": [
    "import numpy as np\n",
    "\n",
    "# Load the dataset\n",
    "data = np.load('features.npz')\n",
    "xtrain = data['xtrain']\n",
    "ytrain = data['ytrain']\n",
    "\n",
    "# Check the distinct values in each categorical column\n",
    "categorical_cols = [1, 2, 5, 6, 8, 10, 12]  # Indices for categorical features\n",
    "col_names = ['sex', 'cp', 'fbs', 'restecg', 'exang', 'slope', 'thal']\n",
    "\n",
    "for i, col_idx in enumerate(categorical_cols):\n",
    "    unique_vals = np.unique(xtrain[:, col_idx])\n",
    "    print(f\"{col_names[i]}: {unique_vals}\")\n",
    "\n",
    "# Print counts for each label\n",
    "values, counts = np.unique(ytrain, return_counts = True)\n",
    "print(\"Sample count for each label:\")\n",
    "for i, c in zip(values, counts):\n",
    "    print(f\"{i}, {c}\")"
   ]
  }
 ],
 "metadata": {
  "kernelspec": {
   "display_name": "Python 3 (ipykernel)",
   "language": "python",
   "name": "python3"
  },
  "language_info": {
   "codemirror_mode": {
    "name": "ipython",
    "version": 3
   },
   "file_extension": ".py",
   "mimetype": "text/x-python",
   "name": "python",
   "nbconvert_exporter": "python",
   "pygments_lexer": "ipython3",
   "version": "3.12.3"
  }
 },
 "nbformat": 4,
 "nbformat_minor": 5
}
